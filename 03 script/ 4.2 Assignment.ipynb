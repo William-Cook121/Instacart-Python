{
 "cells": [
  {
   "cell_type": "code",
   "execution_count": 1,
   "id": "fea14833",
   "metadata": {},
   "outputs": [
    {
     "data": {
      "text/plain": [
       "100"
      ]
     },
     "execution_count": 1,
     "metadata": {},
     "output_type": "execute_result"
    }
   ],
   "source": [
    "100+0+0"
   ]
  },
  {
   "cell_type": "code",
   "execution_count": 2,
   "id": "bfa94af8",
   "metadata": {},
   "outputs": [
    {
     "data": {
      "text/plain": [
       "100"
      ]
     },
     "execution_count": 2,
     "metadata": {},
     "output_type": "execute_result"
    }
   ],
   "source": [
    "33+33+34"
   ]
  },
  {
   "cell_type": "code",
   "execution_count": 3,
   "id": "813f3146",
   "metadata": {},
   "outputs": [
    {
     "data": {
      "text/plain": [
       "100"
      ]
     },
     "execution_count": 3,
     "metadata": {},
     "output_type": "execute_result"
    }
   ],
   "source": [
    "150-50"
   ]
  },
  {
   "cell_type": "code",
   "execution_count": 4,
   "id": "09d8534f",
   "metadata": {},
   "outputs": [],
   "source": [
    "x=5.5"
   ]
  },
  {
   "cell_type": "code",
   "execution_count": 5,
   "id": "04a39f1a",
   "metadata": {},
   "outputs": [],
   "source": [
    "y=2.1"
   ]
  },
  {
   "cell_type": "code",
   "execution_count": 6,
   "id": "f74cfba8",
   "metadata": {},
   "outputs": [
    {
     "data": {
      "text/plain": [
       "2.619047619047619"
      ]
     },
     "execution_count": 6,
     "metadata": {},
     "output_type": "execute_result"
    }
   ],
   "source": [
    "x/y"
   ]
  },
  {
   "cell_type": "code",
   "execution_count": 7,
   "id": "6606b658",
   "metadata": {},
   "outputs": [],
   "source": [
    "a='Water'"
   ]
  },
  {
   "cell_type": "code",
   "execution_count": 8,
   "id": "e577d07a",
   "metadata": {},
   "outputs": [],
   "source": [
    "b='melon'"
   ]
  },
  {
   "cell_type": "code",
   "execution_count": 9,
   "id": "1be43729",
   "metadata": {},
   "outputs": [
    {
     "data": {
      "text/plain": [
       "'Watermelon'"
      ]
     },
     "execution_count": 9,
     "metadata": {},
     "output_type": "execute_result"
    }
   ],
   "source": [
    "a+b"
   ]
  },
  {
   "cell_type": "code",
   "execution_count": 10,
   "id": "88a87bdd",
   "metadata": {},
   "outputs": [],
   "source": [
    "a=\"Hello, my name\""
   ]
  },
  {
   "cell_type": "code",
   "execution_count": 11,
   "id": "c93556cb",
   "metadata": {},
   "outputs": [],
   "source": [
    "b= ' is William.'"
   ]
  },
  {
   "cell_type": "code",
   "execution_count": 12,
   "id": "a7d60c48",
   "metadata": {},
   "outputs": [
    {
     "data": {
      "text/plain": [
       "'Hello, my name is William.'"
      ]
     },
     "execution_count": 12,
     "metadata": {},
     "output_type": "execute_result"
    }
   ],
   "source": [
    "a+b"
   ]
  },
  {
   "cell_type": "code",
   "execution_count": 13,
   "id": "742f7e30",
   "metadata": {},
   "outputs": [],
   "source": [
    "a='I enjoy'"
   ]
  },
  {
   "cell_type": "code",
   "execution_count": 14,
   "id": "d7d93ea3",
   "metadata": {},
   "outputs": [],
   "source": [
    "b=' riding my bicyle with my daughter.'"
   ]
  },
  {
   "cell_type": "code",
   "execution_count": 15,
   "id": "81a1c132",
   "metadata": {},
   "outputs": [
    {
     "data": {
      "text/plain": [
       "'I enjoy riding my bicyle with my daughter.'"
      ]
     },
     "execution_count": 15,
     "metadata": {},
     "output_type": "execute_result"
    }
   ],
   "source": [
    "a+b"
   ]
  },
  {
   "cell_type": "code",
   "execution_count": 16,
   "id": "ddd07441",
   "metadata": {},
   "outputs": [],
   "source": [
    "a= 'wowza'"
   ]
  },
  {
   "cell_type": "code",
   "execution_count": 17,
   "id": "51b07664",
   "metadata": {},
   "outputs": [
    {
     "data": {
      "text/plain": [
       "'wowzawowzawowzawowzawowzawowzawowzawowzawowzawowzawowzawowzawowzawowzawowzawowzawowzawowzawowzawowzawowzawowzawowzawowzawowzawowzawowzawowzawowzawowzawowzawowzawowzawowzawowzawowzawowzawowzawowzawowzawowzawowzawowzawowzawowzawowzawowzawowzawowzawowzawowzawowzawowzawowzawowzawowzawowzawowzawowzawowzawowzawowzawowzawowzawowzawowzawowzawowzawowzawowzawowzawowzawowzawowzawowzawowzawowzawowzawowzawowzawowzawowzawowzawowzawowzawowzawowzawowzawowzawowzawowzawowzawowzawowzawowzawowzawowzawowzawowzawowza'"
      ]
     },
     "execution_count": 17,
     "metadata": {},
     "output_type": "execute_result"
    }
   ],
   "source": [
    "a*100"
   ]
  },
  {
   "cell_type": "code",
   "execution_count": null,
   "id": "1e5db05e",
   "metadata": {},
   "outputs": [],
   "source": []
  }
 ],
 "metadata": {
  "kernelspec": {
   "display_name": "Python 3",
   "language": "python",
   "name": "python3"
  },
  "language_info": {
   "codemirror_mode": {
    "name": "ipython",
    "version": 3
   },
   "file_extension": ".py",
   "mimetype": "text/x-python",
   "name": "python",
   "nbconvert_exporter": "python",
   "pygments_lexer": "ipython3",
   "version": "3.8.8"
  }
 },
 "nbformat": 4,
 "nbformat_minor": 5
}
